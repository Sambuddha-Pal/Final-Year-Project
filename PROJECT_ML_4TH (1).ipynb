{
 "cells": [
  {
   "cell_type": "code",
   "execution_count": 1,
   "metadata": {},
   "outputs": [],
   "source": [
    "import numpy as np\n",
    "import matplotlib.pyplot as plt\n",
    "from sklearn.svm import SVR\n",
    "from sklearn.preprocessing import StandardScaler\n",
    "import pandas as pd\n",
    "from sklearn.metrics import mean_squared_error\n",
    "from sklearn.metrics import f1_score"
   ]
  },
  {
   "cell_type": "code",
   "execution_count": 2,
   "metadata": {},
   "outputs": [
    {
     "data": {
      "text/html": [
       "<div>\n",
       "<style scoped>\n",
       "    .dataframe tbody tr th:only-of-type {\n",
       "        vertical-align: middle;\n",
       "    }\n",
       "\n",
       "    .dataframe tbody tr th {\n",
       "        vertical-align: top;\n",
       "    }\n",
       "\n",
       "    .dataframe thead th {\n",
       "        text-align: right;\n",
       "    }\n",
       "</style>\n",
       "<table border=\"1\" class=\"dataframe\">\n",
       "  <thead>\n",
       "    <tr style=\"text-align: right;\">\n",
       "      <th></th>\n",
       "      <th>anchor_ratio</th>\n",
       "      <th>trans_range</th>\n",
       "      <th>node_density</th>\n",
       "      <th>iterations</th>\n",
       "      <th>ale</th>\n",
       "      <th>sd_ale</th>\n",
       "    </tr>\n",
       "  </thead>\n",
       "  <tbody>\n",
       "    <tr>\n",
       "      <th>0</th>\n",
       "      <td>30</td>\n",
       "      <td>15</td>\n",
       "      <td>200</td>\n",
       "      <td>40</td>\n",
       "      <td>0.773546</td>\n",
       "      <td>0.250555</td>\n",
       "    </tr>\n",
       "    <tr>\n",
       "      <th>1</th>\n",
       "      <td>15</td>\n",
       "      <td>15</td>\n",
       "      <td>100</td>\n",
       "      <td>70</td>\n",
       "      <td>0.911941</td>\n",
       "      <td>0.498329</td>\n",
       "    </tr>\n",
       "    <tr>\n",
       "      <th>2</th>\n",
       "      <td>30</td>\n",
       "      <td>15</td>\n",
       "      <td>100</td>\n",
       "      <td>50</td>\n",
       "      <td>0.814867</td>\n",
       "      <td>0.255546</td>\n",
       "    </tr>\n",
       "    <tr>\n",
       "      <th>3</th>\n",
       "      <td>15</td>\n",
       "      <td>20</td>\n",
       "      <td>100</td>\n",
       "      <td>20</td>\n",
       "      <td>1.435332</td>\n",
       "      <td>0.394603</td>\n",
       "    </tr>\n",
       "    <tr>\n",
       "      <th>4</th>\n",
       "      <td>30</td>\n",
       "      <td>15</td>\n",
       "      <td>100</td>\n",
       "      <td>40</td>\n",
       "      <td>1.265909</td>\n",
       "      <td>0.302943</td>\n",
       "    </tr>\n",
       "  </tbody>\n",
       "</table>\n",
       "</div>"
      ],
      "text/plain": [
       "   anchor_ratio  trans_range  node_density  iterations       ale    sd_ale\n",
       "0            30           15           200          40  0.773546  0.250555\n",
       "1            15           15           100          70  0.911941  0.498329\n",
       "2            30           15           100          50  0.814867  0.255546\n",
       "3            15           20           100          20  1.435332  0.394603\n",
       "4            30           15           100          40  1.265909  0.302943"
      ]
     },
     "execution_count": 2,
     "metadata": {},
     "output_type": "execute_result"
    }
   ],
   "source": [
    "df = pd.read_csv(\"project_data.csv\")\n",
    "df.head()\n"
   ]
  },
  {
   "cell_type": "code",
   "execution_count": 3,
   "metadata": {},
   "outputs": [],
   "source": [
    "y1 = df['ale']\n",
    "y2 =df['sd_ale']\n",
    "X = df.drop(['ale','sd_ale'], axis=1)  # Features (all columns except 'Target')\n",
    "scaler_X = StandardScaler()\n",
    "scaler_y1 = StandardScaler()\n",
    "scaler_y2 = StandardScaler()\n"
   ]
  },
  {
   "cell_type": "code",
   "execution_count": 4,
   "metadata": {
    "scrolled": true
   },
   "outputs": [
    {
     "name": "stdout",
     "output_type": "stream",
     "text": [
      "The accuracy of SVR with Z-score standarization is: 62.270366598051496\n",
      "\n",
      "\n",
      "Predicted values of ale: [0.96142048 0.94183605 1.06838232 0.49088125 1.34612625 1.01458263\n",
      " 0.68490825 0.76277488 0.35456333 1.39593509 1.09668457 0.57779259\n",
      " 0.73478986 0.99919456 0.90198294 1.00091261 1.52613596 1.01585868\n",
      " 1.05861294 1.01664781 1.23485737 1.57287777]\n",
      "\n",
      "\n",
      "Mean Squared Error - ale: 0.05976995129127809\n",
      "\n",
      "\n",
      "Predicted values for sd_ale: [ 0.34757501  0.21960894  0.2283369   0.08150899  0.45952703  0.17025155\n",
      "  0.21530945  0.30337199 -0.1645992   0.30531364  0.28915542  0.28492846\n",
      "  0.22752919  0.36363591  0.23162056  0.2793069   0.54643614  0.2719286\n",
      "  0.3752072   0.19721017  0.30019353  0.62541935]\n",
      "\n",
      "\n",
      "Mean Squared Error - sd_ale: 0.024372734684412426\n"
     ]
    }
   ],
   "source": [
    "from sklearn.multioutput import MultiOutputRegressor\n",
    "# Create an SVR instance\n",
    "from sklearn.model_selection import train_test_split\n",
    "\n",
    "X_train, X_test, y1_train, y1_test, y2_train, y2_test = train_test_split(X, y1,y2,test_size=0.2, random_state=42)\n",
    "svr = SVR(kernel='poly')\n",
    "\n",
    "# Create a MultiOutputRegressor\n",
    "multioutput_regressor = MultiOutputRegressor(svr)\n",
    "\n",
    "X_train_scaled = scaler_X.fit_transform(X_train)\n",
    "X_test_scaled=scaler_X.transform(X_test)\n",
    "y1_scaled = scaler_y1.fit_transform(y1_test.values.reshape(-1,1))\n",
    "y2_scaled = scaler_y2.fit_transform(y2_test.values.reshape(-1,1))\n",
    "\n",
    "\n",
    "# Train the model with both target variables\n",
    "multioutput_regressor.fit(X_train_scaled, np.column_stack((y1_train,y2_train)))\n",
    "print('The accuracy of SVR with Z-score standarization is:',multioutput_regressor.score(X_test_scaled,np.column_stack((y1_test, y2_test)))*100)\n",
    "print(\"\\n\")\n",
    "y_pred = multioutput_regressor.predict(X_test_scaled)\n",
    "mse_target_1 = mean_squared_error(y1_test.values, y_pred[:, 0])\n",
    "mse_target_2 = mean_squared_error(y2_test.values, y_pred[:, 1])\n",
    "\n",
    "print(\"Predicted values of ale:\",y_pred[:,0])\n",
    "print(\"\\n\")\n",
    "print(\"Mean Squared Error - ale:\", mse_target_1)\n",
    "print(\"\\n\")\n",
    "print(\"Predicted values for sd_ale:\",y_pred[:,1])\n",
    "print(\"\\n\")\n",
    "print(\"Mean Squared Error - sd_ale:\", mse_target_2)\n",
    "\n",
    "\n",
    "\n"
   ]
  },
  {
   "cell_type": "code",
   "execution_count": 5,
   "metadata": {},
   "outputs": [
    {
     "name": "stdout",
     "output_type": "stream",
     "text": [
      "Predicted ale: [[1.68459748]]\n",
      "Predicted sd_ale: [[0.38135925]]\n"
     ]
    }
   ],
   "source": [
    "from sklearn.metrics import accuracy_score\n",
    "# Feature names and values for prediction\n",
    "feature_names = ['anchor_ratio','trans_range','node_density','iterations']\n",
    "feature_values = [15,20,100,20]  # Replace with actual feature values\n",
    "\n",
    "# Create a dictionary mapping feature names to values\n",
    "feature_dict = dict(zip(feature_names, feature_values))\n",
    "\n",
    "# Create a DataFrame with a single row representing the prediction sample\n",
    "prediction_sample = pd.DataFrame([feature_dict])\n",
    "\n",
    "# Scale the prediction sample using the same scaler\n",
    "prediction_sample_scaled = scaler_X.transform(prediction_sample)\n",
    "\n",
    "# Predict for both target variables\n",
    "prediction_scaled = multioutput_regressor.predict(prediction_sample_scaled)\n",
    "predicted_y1 = scaler_y1.inverse_transform(prediction_scaled[:, 0].reshape(-1,1))\n",
    "predicted_y2 = scaler_y2.inverse_transform(prediction_scaled[:, 1].reshape(-1,1))\n",
    "\n",
    "\n",
    "# Print the predicted values for both target variables\n",
    "print('Predicted ale:', predicted_y1)\n",
    "print('Predicted sd_ale:', predicted_y2)"
   ]
  },
  {
   "cell_type": "code",
   "execution_count": 6,
   "metadata": {},
   "outputs": [
    {
     "data": {
      "image/png": "[encoded data removed]",
      "text/plain": [
       "<Figure size 432x288 with 1 Axes>"
      ]
     },
     "metadata": {
      "needs_background": "light"
     },
     "output_type": "display_data"
    },
    {
     "data": {
      "image/png": "[encoded data removed]",
      "text/plain": [
       "<Figure size 432x288 with 1 Axes>"
      ]
     },
     "metadata": {
      "needs_background": "light"
     },
     "output_type": "display_data"
    }
   ],
   "source": [
    "x= y1_test.values\n",
    "y = y_pred[:,0]\n",
    "\n",
    "\n",
    "\n",
    "# Create a line plot for deviation of ale\n",
    "plt.scatter(x, y)\n",
    "plt.xlabel('Test_ale')\n",
    "plt.ylabel('Predicted_ale')\n",
    "plt.title('Deviation of ale')\n",
    "plt.grid(True)\n",
    "plt.show()\n",
    "\n",
    "x1= y2_test.values\n",
    "y1 = y_pred[:,1]\n",
    "\n",
    "\n",
    "\n",
    "# Create a line plot for deviation of sd_ale\n",
    "plt.scatter(x1, y1,color='red')\n",
    "plt.xlabel('Test_sd_ale')\n",
    "plt.ylabel('Predicted_sd_ale')\n",
    "plt.title('Deviation of sd_ale')\n",
    "plt.grid(True)\n",
    "plt.show()\n"
   ]
  }
 ],
 "metadata": {
  "kernelspec": {
   "display_name": "Python 3",
   "language": "python",
   "name": "python3"
  },
  "language_info": {
   "codemirror_mode": {
    "name": "ipython",
    "version": 3
   },
   "file_extension": ".py",
   "mimetype": "text/x-python",
   "name": "python",
   "nbconvert_exporter": "python",
   "pygments_lexer": "ipython3",
   "version": "3.8.5"
  }
 },
 "nbformat": 4,
 "nbformat_minor": 4
}
